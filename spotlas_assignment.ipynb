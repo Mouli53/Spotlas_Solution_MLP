{
 "cells": [
  {
   "cell_type": "markdown",
   "metadata": {
    "id": "Q7xhJDdwYlv2"
   },
   "source": [
    "## Scratch MLP"
   ]
  },
  {
   "cell_type": "code",
   "execution_count": 1,
   "metadata": {
    "id": "eOK_lak-XPnI"
   },
   "outputs": [],
   "source": [
    "import numpy as np\n",
    "import warnings\n",
    "warnings.filterwarnings('ignore')"
   ]
  },
  {
   "cell_type": "markdown",
   "metadata": {
    "id": "VudE63m8Xdtn"
   },
   "source": [
    "### Setting the parameters\n",
    "\n",
    "W1 is the weight of the hidden layer with size 3x2 (number of neurons in hidden and input layer respectively)\n",
    "\n",
    "W2 is the weight of the output layer with size 2x3 (number of neurons in output and hidden layer respectively)\n",
    "\n",
    "\n",
    "b1 is the bias in the hidden layer (3x1)\n",
    "\n",
    "b2 is the bias in the output layer (2x1)\n",
    "\n",
    "For initialisation, I have used **he initialization**"
   ]
  },
  {
   "cell_type": "code",
   "execution_count": 2,
   "metadata": {
    "id": "QMl3AZGcXc0G"
   },
   "outputs": [],
   "source": [
    "def setParameters(X, Y, hidden_size):\n",
    "  np.random.seed(3)\n",
    "  input_size = X.shape[0] # number of neurons in input layer\n",
    "  output_size = Y.shape[0] # number of neurons in output layer.\n",
    "  W1 = np.random.randn(hidden_size, input_size)*np.sqrt(2/input_size) # random initialisation \n",
    "  b1 = np.zeros((hidden_size, 1))\n",
    "  W2 = np.random.randn(output_size, hidden_size)*np.sqrt(2/hidden_size) # random initialisation \n",
    "  b2 = np.zeros((output_size, 1))\n",
    "  params = {'W1': W1, 'W2': W2, 'b1': b1, 'b2': b2}\n",
    "  return params"
   ]
  },
  {
   "cell_type": "markdown",
   "metadata": {
    "id": "4tTSWGgeY1rG"
   },
   "source": [
    "### Forward Propagation \n",
    "\n",
    "This is the simple forward propagation step. \n",
    "\n",
    "We are storing {‘Z1’: Z1, ‘Z2’: Z2, ‘A1’: A1, ‘y’: y}\n",
    "\n",
    "Because we will use them when back-propagating."
   ]
  },
  {
   "cell_type": "code",
   "execution_count": 3,
   "metadata": {
    "id": "GgqdbcKtaIz6"
   },
   "outputs": [],
   "source": [
    "def f2(v):\n",
    "    return (1 / (1 + np.exp(-v)))"
   ]
  },
  {
   "cell_type": "code",
   "execution_count": 4,
   "metadata": {
    "id": "3B41IHXIYLxU"
   },
   "outputs": [],
   "source": [
    "def forwardPropagation(X, params):\n",
    "  '''\n",
    "  X: input\n",
    "  params: The dictionary storing Weights and biases\n",
    "  '''\n",
    "  Z1 = np.dot(params['W1'], X)+params['b1']\n",
    "  A1 = np.tanh(Z1) # this is the f1 function or the tanh(v)\n",
    "  Z2 = np.dot(params['W2'], A1)+params['b2']\n",
    "  y = f2(Z2) # this is the f2 function as defined\n",
    "  return y, {'Z1': Z1, 'Z2': Z2, 'A1': A1, 'y': y}"
   ]
  },
  {
   "cell_type": "markdown",
   "metadata": {
    "id": "RuU85Z42aYbG"
   },
   "source": [
    "### Cost function\n",
    "\n",
    "We update our parameters and find the best parameter that gives us the minimum possible cost. We are using the famous **cross entropy cost function** used for classification purpose."
   ]
  },
  {
   "cell_type": "code",
   "execution_count": 5,
   "metadata": {
    "id": "6vHBTWmQaQMY"
   },
   "outputs": [],
   "source": [
    "def cost(predict, actual):\n",
    "  m = actual.shape[1]\n",
    "  cost__ = -np.sum(np.multiply(np.log(predict), actual) + np.multiply((1 - actual), np.log(1 - predict)))/m\n",
    "  return np.squeeze(cost__)"
   ]
  },
  {
   "cell_type": "markdown",
   "metadata": {
    "id": "x2oMZx_ba4OU"
   },
   "source": [
    "### Backpropagation\n",
    "\n",
    "We’ve found the cost, now is the time for the most important step that is Backpropagation.\n",
    "\n",
    "We will be caching and returning the gradients that will be used for updating the weights"
   ]
  },
  {
   "cell_type": "code",
   "execution_count": 6,
   "metadata": {
    "id": "uZvW5qVmayjz"
   },
   "outputs": [],
   "source": [
    "def backPropagation(X, Y, params, cache):\n",
    "  m = X.shape[1]\n",
    "  dy = cache['y'] - Y\n",
    "  dW2 = (1 / m) * np.dot(dy, np.transpose(cache['A1']))\n",
    "  db2 = (1 / m) * np.sum(dy, axis=1, keepdims=True)\n",
    "  dZ1 = np.dot(np.transpose(params['W2']), dy) * (1-np.power(cache['A1'], 2))\n",
    "  dW1 = (1 / m) * np.dot(dZ1, np.transpose(X))\n",
    "  db1 = (1 / m) * np.sum(dZ1, axis=1, keepdims=True)\n",
    "  return {\"dW1\": dW1, \"db1\": db1, \"dW2\": dW2, \"db2\": db2}"
   ]
  },
  {
   "cell_type": "markdown",
   "metadata": {
    "id": "h3L9qKedbbtK"
   },
   "source": [
    "### Update weights\n",
    "\n",
    "Now that we have our derivatives using backpropagation, we can update the weights and biases\n",
    "\n",
    "We will be using a default learning rate of 1.0"
   ]
  },
  {
   "cell_type": "code",
   "execution_count": 7,
   "metadata": {
    "id": "MJlIEtMQbWm3"
   },
   "outputs": [],
   "source": [
    "def updateParameters(gradients, params, learning_rate = 1.0):\n",
    "    W1 = params['W1'] - learning_rate * gradients['dW1']\n",
    "    b1 = params['b1'] - learning_rate * gradients['db1']\n",
    "    W2 = params['W2'] - learning_rate * gradients['dW2']\n",
    "    b2 = params['b2'] - learning_rate * gradients['db2']\n",
    "    return {'W1': W1, 'W2': W2, 'b1': b1, 'b2': b2}"
   ]
  },
  {
   "cell_type": "markdown",
   "metadata": {
    "id": "TIq2wotNbxj6"
   },
   "source": [
    "### Fitting the model\n",
    "\n",
    "We need to run many interations (or epochs) to find the parameters that return the minimum cost. We will do it using loops.\n",
    "\n",
    "`Hidden_size` means the number of neurons in the hidden layer. It is a hyperparameter."
   ]
  },
  {
   "cell_type": "code",
   "execution_count": 8,
   "metadata": {
    "id": "6OP3GPDVbniv"
   },
   "outputs": [],
   "source": [
    "def fit(X, Y, learning_rate, hidden_size, number_of_iterations = 5000):\n",
    "  params = setParameters(X, Y, hidden_size)\n",
    "  cost_ = []\n",
    "  for j in range(number_of_iterations):\n",
    "    y, cache = forwardPropagation(X, params)\n",
    "    costit = cost(y, Y)\n",
    "    gradients = backPropagation(X, Y, params, cache)\n",
    "    params = updateParameters(gradients, params, learning_rate)\n",
    "    cost_.append(costit)\n",
    "  return params, cost_"
   ]
  },
  {
   "cell_type": "markdown",
   "metadata": {
    "id": "Jg2swXiHcSRo"
   },
   "source": [
    "### Execution\n",
    "\n",
    "We will try our code on **make_moons dataset** (well known classification dataset) of sklearn"
   ]
  },
  {
   "cell_type": "code",
   "execution_count": 9,
   "metadata": {
    "id": "YhI4ASt-cIlR"
   },
   "outputs": [],
   "source": [
    "import sklearn.datasets\n",
    "X, Y = sklearn.datasets.make_moons(n_samples=500, noise=.2)\n",
    "X, Y = X.T, Y.reshape(1, Y.shape[0])"
   ]
  },
  {
   "cell_type": "code",
   "execution_count": 10,
   "metadata": {
    "colab": {
     "base_uri": "https://localhost:8080/"
    },
    "id": "4u-dHe42cxla",
    "outputId": "30210912-310e-4923-cbac-edd921f88cfc"
   },
   "outputs": [
    {
     "data": {
      "text/plain": [
       "((2, 500), (1, 500))"
      ]
     },
     "execution_count": 10,
     "metadata": {},
     "output_type": "execute_result"
    }
   ],
   "source": [
    "X.shape, Y.shape"
   ]
  },
  {
   "cell_type": "markdown",
   "metadata": {
    "id": "9jFia2KGdXdl"
   },
   "source": [
    "Let us also convert output to 2 dimensional as per the requirements using one hot encoding"
   ]
  },
  {
   "cell_type": "code",
   "execution_count": 11,
   "metadata": {
    "id": "m3esu3v4c1in"
   },
   "outputs": [],
   "source": [
    "Y_1hot = np.zeros((2, Y.shape[1]))\n",
    "for i in range(len(Y[0])):\n",
    "  Y_1hot[Y[0][i], i] = 1"
   ]
  },
  {
   "cell_type": "code",
   "execution_count": 12,
   "metadata": {
    "id": "CSsU1va0e0-l"
   },
   "outputs": [],
   "source": [
    "params, cost_ = fit(X, Y_1hot, 0.3, 3, 5000)"
   ]
  },
  {
   "cell_type": "markdown",
   "metadata": {
    "id": "zCYBvyL4fiFl"
   },
   "source": [
    "### Plotting the cost function"
   ]
  },
  {
   "cell_type": "code",
   "execution_count": 13,
   "metadata": {
    "colab": {
     "base_uri": "https://localhost:8080/",
     "height": 283
    },
    "id": "y1vWGq4Me-vZ",
    "outputId": "65e61aac-f85c-4217-96f2-28a09a19bd25"
   },
   "outputs": [
    {
     "data": {
      "text/plain": [
       "[<matplotlib.lines.Line2D at 0x1e0b2249670>]"
      ]
     },
     "execution_count": 13,
     "metadata": {},
     "output_type": "execute_result"
    },
    {
     "data": {
      "image/png": "[encoded data removed]",
      "text/plain": [
       "<Figure size 432x288 with 1 Axes>"
      ]
     },
     "metadata": {
      "needs_background": "light"
     },
     "output_type": "display_data"
    }
   ],
   "source": [
    "import matplotlib.pyplot as plt\n",
    "plt.plot(cost_)"
   ]
  },
  {
   "cell_type": "markdown",
   "metadata": {
    "id": "5_1ajI3ffp4t"
   },
   "source": [
    "### It has successfully converged! We have successfully built the MLP model"
   ]
  },
  {
   "cell_type": "markdown",
   "metadata": {
    "id": "ZSafduxbgB3L"
   },
   "source": [
    "### Q2\n",
    "\n",
    "MLP using Tensorflow"
   ]
  },
  {
   "cell_type": "code",
   "execution_count": 14,
   "metadata": {
    "id": "ReO6o1ymfspC"
   },
   "outputs": [],
   "source": [
    "from keras.models import Sequential\n",
    "from keras.layers.core import Dense, Activation"
   ]
  },
  {
   "cell_type": "markdown",
   "metadata": {
    "id": "qfNUEXqOgj0W"
   },
   "source": [
    "### Using Tensorflow we are now developing a model. We will add hidden and output layer to it."
   ]
  },
  {
   "cell_type": "code",
   "execution_count": 15,
   "metadata": {
    "id": "PnRPAHXYgZLW"
   },
   "outputs": [],
   "source": [
    "model = Sequential()\n",
    "model.add(Dense(3, input_dim=2))\n",
    "model.add(Activation('tanh'))\n",
    "model.add(Dense(2))\n",
    "model.add(Activation('sigmoid'))"
   ]
  },
  {
   "cell_type": "code",
   "execution_count": 16,
   "metadata": {
    "colab": {
     "base_uri": "https://localhost:8080/"
    },
    "id": "7Bq2N4SnhE3Y",
    "outputId": "2bb2f909-6eb1-4e22-ffe1-3a9c8dfd5b99"
   },
   "outputs": [
    {
     "name": "stdout",
     "output_type": "stream",
     "text": [
      "Epoch 1/100\n",
      "16/16 - 12s - loss: 0.7286\n",
      "Epoch 2/100\n",
      "16/16 - 0s - loss: 0.7076\n",
      "Epoch 3/100\n",
      "16/16 - 0s - loss: 0.6882\n",
      "Epoch 4/100\n",
      "16/16 - 0s - loss: 0.6701\n",
      "Epoch 5/100\n",
      "16/16 - 0s - loss: 0.6535\n",
      "Epoch 6/100\n",
      "16/16 - 0s - loss: 0.6382\n",
      "Epoch 7/100\n",
      "16/16 - 0s - loss: 0.6238\n",
      "Epoch 8/100\n",
      "16/16 - 0s - loss: 0.6103\n",
      "Epoch 9/100\n",
      "16/16 - 0s - loss: 0.5974\n",
      "Epoch 10/100\n",
      "16/16 - 0s - loss: 0.5851\n",
      "Epoch 11/100\n",
      "16/16 - 0s - loss: 0.5737\n",
      "Epoch 12/100\n",
      "16/16 - 0s - loss: 0.5626\n",
      "Epoch 13/100\n",
      "16/16 - 0s - loss: 0.5526\n",
      "Epoch 14/100\n",
      "16/16 - 0s - loss: 0.5425\n",
      "Epoch 15/100\n",
      "16/16 - 0s - loss: 0.5334\n",
      "Epoch 16/100\n",
      "16/16 - 0s - loss: 0.5247\n",
      "Epoch 17/100\n",
      "16/16 - 0s - loss: 0.5164\n",
      "Epoch 18/100\n",
      "16/16 - 0s - loss: 0.5083\n",
      "Epoch 19/100\n",
      "16/16 - 0s - loss: 0.5008\n",
      "Epoch 20/100\n",
      "16/16 - 0s - loss: 0.4934\n",
      "Epoch 21/100\n",
      "16/16 - 0s - loss: 0.4867\n",
      "Epoch 22/100\n",
      "16/16 - 0s - loss: 0.4801\n",
      "Epoch 23/100\n",
      "16/16 - 0s - loss: 0.4739\n",
      "Epoch 24/100\n",
      "16/16 - 0s - loss: 0.4678\n",
      "Epoch 25/100\n",
      "16/16 - 0s - loss: 0.4621\n",
      "Epoch 26/100\n",
      "16/16 - 0s - loss: 0.4565\n",
      "Epoch 27/100\n",
      "16/16 - 0s - loss: 0.4512\n",
      "Epoch 28/100\n",
      "16/16 - 0s - loss: 0.4462\n",
      "Epoch 29/100\n",
      "16/16 - 0s - loss: 0.4413\n",
      "Epoch 30/100\n",
      "16/16 - 0s - loss: 0.4366\n",
      "Epoch 31/100\n",
      "16/16 - 0s - loss: 0.4321\n",
      "Epoch 32/100\n",
      "16/16 - 0s - loss: 0.4276\n",
      "Epoch 33/100\n",
      "16/16 - 0s - loss: 0.4236\n",
      "Epoch 34/100\n",
      "16/16 - 0s - loss: 0.4194\n",
      "Epoch 35/100\n",
      "16/16 - 0s - loss: 0.4158\n",
      "Epoch 36/100\n",
      "16/16 - 0s - loss: 0.4118\n",
      "Epoch 37/100\n",
      "16/16 - 0s - loss: 0.4082\n",
      "Epoch 38/100\n",
      "16/16 - 0s - loss: 0.4047\n",
      "Epoch 39/100\n",
      "16/16 - 0s - loss: 0.4014\n",
      "Epoch 40/100\n",
      "16/16 - 0s - loss: 0.3981\n",
      "Epoch 41/100\n",
      "16/16 - 0s - loss: 0.3951\n",
      "Epoch 42/100\n",
      "16/16 - 0s - loss: 0.3920\n",
      "Epoch 43/100\n",
      "16/16 - 0s - loss: 0.3890\n",
      "Epoch 44/100\n",
      "16/16 - 0s - loss: 0.3863\n",
      "Epoch 45/100\n",
      "16/16 - 0s - loss: 0.3835\n",
      "Epoch 46/100\n",
      "16/16 - 0s - loss: 0.3809\n",
      "Epoch 47/100\n",
      "16/16 - 0s - loss: 0.3785\n",
      "Epoch 48/100\n",
      "16/16 - 0s - loss: 0.3761\n",
      "Epoch 49/100\n",
      "16/16 - 0s - loss: 0.3739\n",
      "Epoch 50/100\n",
      "16/16 - 0s - loss: 0.3715\n",
      "Epoch 51/100\n",
      "16/16 - 0s - loss: 0.3695\n",
      "Epoch 52/100\n",
      "16/16 - 0s - loss: 0.3675\n",
      "Epoch 53/100\n",
      "16/16 - 0s - loss: 0.3655\n",
      "Epoch 54/100\n",
      "16/16 - 0s - loss: 0.3637\n",
      "Epoch 55/100\n",
      "16/16 - 0s - loss: 0.3618\n",
      "Epoch 56/100\n",
      "16/16 - 0s - loss: 0.3601\n",
      "Epoch 57/100\n",
      "16/16 - 0s - loss: 0.3586\n",
      "Epoch 58/100\n",
      "16/16 - 0s - loss: 0.3570\n",
      "Epoch 59/100\n",
      "16/16 - 0s - loss: 0.3555\n",
      "Epoch 60/100\n",
      "16/16 - 0s - loss: 0.3542\n",
      "Epoch 61/100\n",
      "16/16 - 0s - loss: 0.3528\n",
      "Epoch 62/100\n",
      "16/16 - 0s - loss: 0.3514\n",
      "Epoch 63/100\n",
      "16/16 - 0s - loss: 0.3502\n",
      "Epoch 64/100\n",
      "16/16 - 0s - loss: 0.3489\n",
      "Epoch 65/100\n",
      "16/16 - 0s - loss: 0.3479\n",
      "Epoch 66/100\n",
      "16/16 - 0s - loss: 0.3470\n",
      "Epoch 67/100\n",
      "16/16 - 0s - loss: 0.3458\n",
      "Epoch 68/100\n",
      "16/16 - 0s - loss: 0.3449\n",
      "Epoch 69/100\n",
      "16/16 - 0s - loss: 0.3439\n",
      "Epoch 70/100\n",
      "16/16 - 0s - loss: 0.3430\n",
      "Epoch 71/100\n",
      "16/16 - 0s - loss: 0.3423\n",
      "Epoch 72/100\n",
      "16/16 - 0s - loss: 0.3414\n",
      "Epoch 73/100\n",
      "16/16 - 0s - loss: 0.3407\n",
      "Epoch 74/100\n",
      "16/16 - 0s - loss: 0.3402\n",
      "Epoch 75/100\n",
      "16/16 - 0s - loss: 0.3393\n",
      "Epoch 76/100\n",
      "16/16 - 0s - loss: 0.3387\n",
      "Epoch 77/100\n",
      "16/16 - 0s - loss: 0.3381\n",
      "Epoch 78/100\n",
      "16/16 - 0s - loss: 0.3376\n",
      "Epoch 79/100\n",
      "16/16 - 0s - loss: 0.3370\n",
      "Epoch 80/100\n",
      "16/16 - 0s - loss: 0.3364\n",
      "Epoch 81/100\n",
      "16/16 - 0s - loss: 0.3360\n",
      "Epoch 82/100\n",
      "16/16 - 0s - loss: 0.3355\n",
      "Epoch 83/100\n",
      "16/16 - 0s - loss: 0.3350\n",
      "Epoch 84/100\n",
      "16/16 - 0s - loss: 0.3347\n",
      "Epoch 85/100\n",
      "16/16 - 0s - loss: 0.3343\n",
      "Epoch 86/100\n",
      "16/16 - 0s - loss: 0.3339\n",
      "Epoch 87/100\n",
      "16/16 - 0s - loss: 0.3335\n",
      "Epoch 88/100\n",
      "16/16 - 0s - loss: 0.3333\n",
      "Epoch 89/100\n",
      "16/16 - 0s - loss: 0.3329\n",
      "Epoch 90/100\n",
      "16/16 - 0s - loss: 0.3326\n",
      "Epoch 91/100\n",
      "16/16 - 0s - loss: 0.3323\n",
      "Epoch 92/100\n",
      "16/16 - 0s - loss: 0.3320\n",
      "Epoch 93/100\n",
      "16/16 - 0s - loss: 0.3318\n",
      "Epoch 94/100\n",
      "16/16 - 0s - loss: 0.3317\n",
      "Epoch 95/100\n",
      "16/16 - 0s - loss: 0.3314\n",
      "Epoch 96/100\n",
      "16/16 - 0s - loss: 0.3311\n",
      "Epoch 97/100\n",
      "16/16 - 0s - loss: 0.3309\n",
      "Epoch 98/100\n",
      "16/16 - 0s - loss: 0.3307\n",
      "Epoch 99/100\n",
      "16/16 - 0s - loss: 0.3305\n",
      "Epoch 100/100\n",
      "16/16 - 0s - loss: 0.3303\n"
     ]
    }
   ],
   "source": [
    "model.compile(loss='categorical_crossentropy', optimizer='adam')\n",
    "history = model.fit(X.T, Y_1hot.T, epochs=100, verbose=2)"
   ]
  },
  {
   "cell_type": "markdown",
   "metadata": {
    "id": "6XST4XrCnbGG"
   },
   "source": [
    "### We obtained a final converged loss of 0.28."
   ]
  }
 ],
 "metadata": {
  "colab": {
   "collapsed_sections": [],
   "name": "MLP.ipynb",
   "provenance": []
  },
  "kernelspec": {
   "display_name": "Python 3",
   "language": "python",
   "name": "python3"
  },
  "language_info": {
   "codemirror_mode": {
    "name": "ipython",
    "version": 3
   },
   "file_extension": ".py",
   "mimetype": "text/x-python",
   "name": "python",
   "nbconvert_exporter": "python",
   "pygments_lexer": "ipython3",
   "version": "3.8.8"
  }
 },
 "nbformat": 4,
 "nbformat_minor": 1
}
